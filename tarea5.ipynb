{
 "cells": [
  {
   "cell_type": "code",
   "execution_count": 4,
   "metadata": {},
   "outputs": [
    {
     "name": "stdout",
     "output_type": "stream",
     "text": [
      "El resultado de la multiplicación es:  24.0\n"
     ]
    }
   ],
   "source": [
    "\n",
    "num1 = float(input(\"Introduce el primer número: \"))\n",
    "num2 = float(input(\"Introduce el segundo número: \"))\n",
    "operacion = input(\"Introduce la operación (+, -, *, /): \")\n",
    "\n",
    "if operacion == \"+\":\n",
    "    resultado = num1 + num2\n",
    "    print(f\"El resultado de la suma es: \", resultado)\n",
    "elif operacion == \"-\":\n",
    "    resultado = num1 - num2\n",
    "    print(f\"El resultado de la resta es: \", resultado)\n",
    "elif operacion == \"*\":\n",
    "    resultado = num1 * num2\n",
    "    print(f\"El resultado de la multiplicación es: \", resultado)\n",
    "elif operacion == \"/\":\n",
    "    if num2 != 0:\n",
    "        resultado = num1 / num2\n",
    "        print(f\"El resultado de la división es: \", resultado)\n",
    "    else:\n",
    "        print(\"Error: No se puede dividir por cero.\")\n",
    "else:\n",
    "    print(\"Operación no válida.\")\n",
    "\n",
    "\n",
    "\n",
    "\n",
    "\n",
    "    "
   ]
  },
  {
   "cell_type": "markdown",
   "metadata": {},
   "source": [
    "# Calculadora Simple #\n",
    "\n",
    " Crea un programa que solicite al usuario dos números y una operación (suma, resta, multiplicación o división). Luego, utilizando estructuras condicionales (if, elif, else), realiza la operación seleccionada e imprime el resultado."
   ]
  },
  {
   "cell_type": "code",
   "execution_count": 5,
   "metadata": {},
   "outputs": [
    {
     "name": "stdout",
     "output_type": "stream",
     "text": [
      "Cantidad de números pares:  10\n",
      "Cantidad de números impares:  10\n"
     ]
    }
   ],
   "source": [
    "\n",
    "numeros = list(range(1, 21))\n",
    "contador_pares = 0\n",
    "contador_impares = 0\n",
    "for numero in numeros:\n",
    "    if numero % 2 == 0:\n",
    "        contador_pares = contador_pares + 1\n",
    "    else:\n",
    "        contador_impares = contador_impares + 1\n",
    "print(f\"Cantidad de números pares: \" , contador_pares)\n",
    "print(f\"Cantidad de números impares: \" , contador_impares)"
   ]
  },
  {
   "cell_type": "markdown",
   "metadata": {},
   "source": [
    "# Contador de Números Pares e Impares #\n",
    "\n",
    " Escribe un programa que recorra una lista de números del 1 al 20. Utilizando un bucle for, determina cuántos de estos números son pares y cuántos son impares. Al final, imprime la cantidad de números pares e impares."
   ]
  },
  {
   "cell_type": "code",
   "execution_count": null,
   "metadata": {},
   "outputs": [],
   "source": [
    "contraseña_correcta = \"python123\"\n",
    "\n",
    "while True:\n",
    "    contraseña_ingresada = input(\"Ingresa la contraseña: \")\n",
    "    if contraseña_ingresada == contraseña_correcta:\n",
    "        print(\"¡Contraseña correcta! Acceso concedido.\")\n",
    "        break\n",
    "    else:\n",
    "        print(\"Contraseña incorrecta. Intenta de nuevo.\")"
   ]
  },
  {
   "cell_type": "markdown",
   "metadata": {},
   "source": [
    "# Validación de Contraseña #\n",
    "\n",
    "Pide al usuario que ingrese una contraseña. Utiliza un bucle while para seguir solicitando la contraseña hasta que coincida con una contraseña predefinida (por ejemplo, \"python123\"). Muestra un mensaje de éxito cuando la contraseña es correcta."
   ]
  },
  {
   "cell_type": "code",
   "execution_count": 6,
   "metadata": {},
   "outputs": [
    {
     "name": "stdout",
     "output_type": "stream",
     "text": [
      "El número :  15 no es primo.\n"
     ]
    }
   ],
   "source": [
    "\n",
    "numero = int(input(\"Ingresa un número entero: \"))\n",
    "def es_primo(n):\n",
    "    if n <= 1:\n",
    "        return False\n",
    "    for i in range(2, int(n**0.5) + 1):\n",
    "        if n % i == 0:\n",
    "            return False\n",
    "    return True\n",
    "\n",
    "# Verificar si el número ingresado es primo\n",
    "if es_primo(numero):\n",
    "    print(f\"El número : \", numero , \"es primo.\")\n",
    "else:\n",
    "    print(f\"El número : \", numero, \"no es primo.\")"
   ]
  },
  {
   "cell_type": "markdown",
   "metadata": {},
   "source": [
    "# Identificador de Números Primos #\n",
    " Crea un programa que solicite al usuario un número entero. Utilizando un bucle for, verifica si el número es primo (es decir, solo divisible por 1 y por sí mismo). Imprime un mensaje indicando si el número es primo o no."
   ]
  },
  {
   "cell_type": "code",
   "execution_count": null,
   "metadata": {},
   "outputs": [],
   "source": [
    "import random\n",
    "numero_secreto = random.randint(1, 50)\n",
    "print(\"¡Bienvenido al juego de adivinanza!\")\n",
    "print(\"He generado un número aleatorio entre 1 y 50. ¡Intenta adivinarlo!\")\n",
    "\n",
    "while True:\n",
    "    intento = int(input(\"Ingresa el numero que piensas que he generado: \"))\n",
    "    if intento < numero_secreto:\n",
    "        print(\"Demasiado bajo. Intenta de nuevo.\")\n",
    "    elif intento > numero_secreto:\n",
    "        print(\"Demasiado alto. Intenta de nuevo.\")\n",
    "    else:\n",
    "        print(f\"¡Felicidades! Has adivinado el número secreto: \", numero_secreto)\n",
    "        break"
   ]
  },
  {
   "cell_type": "markdown",
   "metadata": {},
   "source": [
    "# Juego de Adivinanza #\n",
    " Genera un número aleatorio entre 1 y 50. Pide al usuario que adivine el número. Utiliza un bucle while para permitir múltiples intentos. Da pistas al usuario si el número ingresado es demasiado alto o bajo. Finaliza el juego cuando el usuario adivine correctamente."
   ]
  },
  {
   "cell_type": "code",
   "execution_count": null,
   "metadata": {},
   "outputs": [],
   "source": [
    "numero = int(input(\"Ingresa un número entero: \"))\n",
    "print(f\"Tabla de multiplicar del \", numero)\n",
    "for i in range(1, 11):\n",
    "    resultado = numero * i\n",
    "    print(f\"\", numero ,\"x\", i , \" = \", resultado) "
   ]
  },
  {
   "cell_type": "markdown",
   "metadata": {},
   "source": [
    "# Tabla de Multiplicar #\n",
    " Pide al usuario que ingrese un número entero. Utiliza un bucle for para imprimir la tabla de multiplicar de ese número del 1 al 10. Por ejemplo, si el usuario ingresa 7, el programa debe imprimir:"
   ]
  }
 ],
 "metadata": {
  "kernelspec": {
   "display_name": "Python 3",
   "language": "python",
   "name": "python3"
  },
  "language_info": {
   "codemirror_mode": {
    "name": "ipython",
    "version": 3
   },
   "file_extension": ".py",
   "mimetype": "text/x-python",
   "name": "python",
   "nbconvert_exporter": "python",
   "pygments_lexer": "ipython3",
   "version": "3.12.3"
  }
 },
 "nbformat": 4,
 "nbformat_minor": 2
}
